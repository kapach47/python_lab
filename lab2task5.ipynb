{
  "nbformat": 4,
  "nbformat_minor": 0,
  "metadata": {
    "colab": {
      "provenance": [],
      "authorship_tag": "ABX9TyPe6yRSqGUTDmTp9VRVGlxN",
      "include_colab_link": true
    },
    "kernelspec": {
      "name": "python3",
      "display_name": "Python 3"
    },
    "language_info": {
      "name": "python"
    }
  },
  "cells": [
    {
      "cell_type": "markdown",
      "metadata": {
        "id": "view-in-github",
        "colab_type": "text"
      },
      "source": [
        "<a href=\"https://colab.research.google.com/github/kapach47/python_lab/blob/utilities/lab2task5.ipynb\" target=\"_parent\"><img src=\"https://colab.research.google.com/assets/colab-badge.svg\" alt=\"Open In Colab\"/></a>"
      ]
    },
    {
      "cell_type": "code",
      "execution_count": null,
      "metadata": {
        "id": "duYZU9Qk43Q0",
        "colab": {
          "base_uri": "https://localhost:8080/"
        },
        "outputId": "023f8143-8048-49f7-a2ea-9ebaf5b58687"
      },
      "outputs": [
        {
          "output_type": "stream",
          "name": "stdout",
          "text": [
            "Cloning into 'temp'...\n",
            "remote: Enumerating objects: 42, done.\u001b[K\n",
            "remote: Counting objects: 100% (42/42), done.\u001b[K\n",
            "remote: Compressing objects: 100% (40/40), done.\u001b[K\n",
            "remote: Total 42 (delta 23), reused 3 (delta 0), pack-reused 0\u001b[K\n",
            "Receiving objects: 100% (42/42), 10.54 KiB | 10.54 MiB/s, done.\n",
            "Resolving deltas: 100% (23/23), done.\n"
          ]
        }
      ],
      "source": [
        "!git clone https://github.com/kapach47/python_lab.git temp"
      ]
    },
    {
      "cell_type": "code",
      "source": [
        "!mv -f temp/{.,}* ."
      ],
      "metadata": {
        "colab": {
          "base_uri": "https://localhost:8080/"
        },
        "id": "peepvcoP6YBJ",
        "outputId": "4c087212-6bbe-4f89-ca12-e2d7fa7731df"
      },
      "execution_count": null,
      "outputs": [
        {
          "output_type": "stream",
          "name": "stdout",
          "text": [
            "mv: cannot move 'temp/.' to './.': Device or resource busy\n",
            "mv: cannot move 'temp/..' to './..': Device or resource busy\n"
          ]
        }
      ]
    },
    {
      "cell_type": "code",
      "source": [
        "!rm -rf temp"
      ],
      "metadata": {
        "id": "PEZT9gO76cZo"
      },
      "execution_count": null,
      "outputs": []
    },
    {
      "cell_type": "code",
      "source": [
        "!touch utility.py"
      ],
      "metadata": {
        "id": "zY8V19hv6yqI"
      },
      "execution_count": 5,
      "outputs": []
    }
  ]
}