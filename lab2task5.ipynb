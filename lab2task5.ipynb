{
  "nbformat": 4,
  "nbformat_minor": 0,
  "metadata": {
    "colab": {
      "provenance": [],
      "authorship_tag": "ABX9TyOMI+zrhKt35KOIBnLJB8a2",
      "include_colab_link": true
    },
    "kernelspec": {
      "name": "python3",
      "display_name": "Python 3"
    },
    "language_info": {
      "name": "python"
    }
  },
  "cells": [
    {
      "cell_type": "markdown",
      "metadata": {
        "id": "view-in-github",
        "colab_type": "text"
      },
      "source": [
        "<a href=\"https://colab.research.google.com/github/kapach47/python_lab/blob/utilities/lab2task5.ipynb\" target=\"_parent\"><img src=\"https://colab.research.google.com/assets/colab-badge.svg\" alt=\"Open In Colab\"/></a>"
      ]
    },
    {
      "cell_type": "code",
      "execution_count": null,
      "metadata": {
        "id": "duYZU9Qk43Q0",
        "colab": {
          "base_uri": "https://localhost:8080/"
        },
        "outputId": "023f8143-8048-49f7-a2ea-9ebaf5b58687"
      },
      "outputs": [
        {
          "output_type": "stream",
          "name": "stdout",
          "text": [
            "Cloning into 'temp'...\n",
            "remote: Enumerating objects: 42, done.\u001b[K\n",
            "remote: Counting objects: 100% (42/42), done.\u001b[K\n",
            "remote: Compressing objects: 100% (40/40), done.\u001b[K\n",
            "remote: Total 42 (delta 23), reused 3 (delta 0), pack-reused 0\u001b[K\n",
            "Receiving objects: 100% (42/42), 10.54 KiB | 10.54 MiB/s, done.\n",
            "Resolving deltas: 100% (23/23), done.\n"
          ]
        }
      ],
      "source": [
        "!git clone https://github.com/kapach47/python_lab.git temp"
      ]
    },
    {
      "cell_type": "code",
      "source": [
        "!mv -f temp/{.,}* ."
      ],
      "metadata": {
        "colab": {
          "base_uri": "https://localhost:8080/"
        },
        "id": "peepvcoP6YBJ",
        "outputId": "4c087212-6bbe-4f89-ca12-e2d7fa7731df"
      },
      "execution_count": null,
      "outputs": [
        {
          "output_type": "stream",
          "name": "stdout",
          "text": [
            "mv: cannot move 'temp/.' to './.': Device or resource busy\n",
            "mv: cannot move 'temp/..' to './..': Device or resource busy\n"
          ]
        }
      ]
    },
    {
      "cell_type": "code",
      "source": [
        "!rm -rf temp"
      ],
      "metadata": {
        "id": "PEZT9gO76cZo"
      },
      "execution_count": null,
      "outputs": []
    },
    {
      "cell_type": "code",
      "source": [
        "!touch utility.py"
      ],
      "metadata": {
        "id": "zY8V19hv6yqI"
      },
      "execution_count": 5,
      "outputs": []
    },
    {
      "cell_type": "code",
      "source": [
        "import numpy\n",
        "from utility import utility\n",
        "\n",
        "values1 = numpy.random.rand(100)\n",
        "values2 = numpy.random.rand(100)\n",
        "values3 = numpy.random.rand(100)\n",
        "\n",
        "i = 0\n",
        "for x in range(100):\n",
        "  if utility(values1[x],values2[x],values3[x]) == True:\n",
        "    i += 1\n",
        "    print(\"Iteraion: \", x)\n",
        "print(\"all constructed triangles\",i)"
      ],
      "metadata": {
        "colab": {
          "base_uri": "https://localhost:8080/"
        },
        "id": "T5sWheG08mcY",
        "outputId": "d7777d48-5565-46b1-d8a8-b0b5acfde8e8"
      },
      "execution_count": 6,
      "outputs": [
        {
          "output_type": "stream",
          "name": "stdout",
          "text": [
            "Iteraion:  2\n",
            "Iteraion:  8\n",
            "Iteraion:  11\n",
            "Iteraion:  15\n",
            "Iteraion:  16\n",
            "Iteraion:  19\n",
            "Iteraion:  22\n",
            "Iteraion:  23\n",
            "Iteraion:  24\n",
            "Iteraion:  25\n",
            "Iteraion:  27\n",
            "Iteraion:  28\n",
            "Iteraion:  32\n",
            "Iteraion:  33\n",
            "Iteraion:  36\n",
            "Iteraion:  37\n",
            "Iteraion:  39\n",
            "Iteraion:  40\n",
            "Iteraion:  43\n",
            "Iteraion:  45\n",
            "Iteraion:  46\n",
            "Iteraion:  47\n",
            "Iteraion:  48\n",
            "Iteraion:  53\n",
            "Iteraion:  56\n",
            "Iteraion:  60\n",
            "Iteraion:  62\n",
            "Iteraion:  63\n",
            "Iteraion:  64\n",
            "Iteraion:  68\n",
            "Iteraion:  73\n",
            "Iteraion:  74\n",
            "Iteraion:  77\n",
            "Iteraion:  80\n",
            "Iteraion:  84\n",
            "Iteraion:  86\n",
            "Iteraion:  89\n",
            "Iteraion:  90\n",
            "Iteraion:  91\n",
            "Iteraion:  95\n",
            "Iteraion:  97\n",
            "all constructed triangles 41\n"
          ]
        }
      ]
    }
  ]
}